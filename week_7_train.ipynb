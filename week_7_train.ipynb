{
 "cells": [
  {
   "cell_type": "code",
   "execution_count": 25,
   "id": "69fb8fcd-8d4f-40e3-a3b4-2d3313325a51",
   "metadata": {},
   "outputs": [],
   "source": [
    "import pandas as pd\n",
    "import numpy as np\n",
    "import matplotlib.pyplot as plt\n",
    "from sklearn.model_selection import train_test_split\n",
    "from sklearn.neighbors import KNeighborsClassifier\n",
    "from sklearn.metrics import classification_report, confusion_matrix"
   ]
  },
  {
   "cell_type": "code",
   "execution_count": 26,
   "id": "b635e3c2-8d68-4fea-ad76-b6ee8fbe5b31",
   "metadata": {},
   "outputs": [],
   "source": [
    "df = pd.read_csv('Week7_train.csv')"
   ]
  },
  {
   "cell_type": "code",
   "execution_count": 27,
   "id": "6341b922-5894-4eba-91fd-1a752e37b0bf",
   "metadata": {},
   "outputs": [
    {
     "name": "stdout",
     "output_type": "stream",
     "text": [
      "(42000, 785)\n"
     ]
    }
   ],
   "source": [
    "print(data.shape)"
   ]
  },
  {
   "cell_type": "code",
   "execution_count": 28,
   "id": "5ea6bdf0-42b1-48a0-89f4-8a7dd8ee6117",
   "metadata": {},
   "outputs": [
    {
     "data": {
      "text/plain": [
       "label       1\n",
       "pixel0      0\n",
       "pixel1      0\n",
       "pixel2      0\n",
       "pixel3      0\n",
       "           ..\n",
       "pixel779    0\n",
       "pixel780    0\n",
       "pixel781    0\n",
       "pixel782    0\n",
       "pixel783    0\n",
       "Name: 0, Length: 785, dtype: int64"
      ]
     },
     "execution_count": 28,
     "metadata": {},
     "output_type": "execute_result"
    }
   ],
   "source": [
    "df.iloc[0,:]#only first row printing"
   ]
  },
  {
   "cell_type": "code",
   "execution_count": 29,
   "id": "bad52203-ede4-4290-a9dd-bf9c6ef3cbd4",
   "metadata": {},
   "outputs": [
    {
     "data": {
      "text/plain": [
       "pixel0      0\n",
       "pixel1      0\n",
       "pixel2      0\n",
       "pixel3      0\n",
       "pixel4      0\n",
       "           ..\n",
       "pixel779    0\n",
       "pixel780    0\n",
       "pixel781    0\n",
       "pixel782    0\n",
       "pixel783    0\n",
       "Name: 0, Length: 784, dtype: int64"
      ]
     },
     "execution_count": 29,
     "metadata": {},
     "output_type": "execute_result"
    }
   ],
   "source": [
    "df.iloc[0,1:]#except 1st"
   ]
  },
  {
   "cell_type": "code",
   "execution_count": 30,
   "id": "2b8cb2ad-b0d3-4d91-934c-68c8c64c5312",
   "metadata": {},
   "outputs": [
    {
     "data": {
      "text/plain": [
       "label       1\n",
       "pixel0      0\n",
       "pixel1      0\n",
       "pixel2      0\n",
       "pixel3      0\n",
       "           ..\n",
       "pixel778    0\n",
       "pixel779    0\n",
       "pixel780    0\n",
       "pixel781    0\n",
       "pixel782    0\n",
       "Name: 0, Length: 784, dtype: int64"
      ]
     },
     "execution_count": 30,
     "metadata": {},
     "output_type": "execute_result"
    }
   ],
   "source": [
    "df.iloc[0,:-1]#except last"
   ]
  },
  {
   "cell_type": "code",
   "execution_count": 89,
   "id": "8cfa9608-f3ac-4735-b68a-d83f9dd78f40",
   "metadata": {},
   "outputs": [
    {
     "ename": "ValueError",
     "evalue": "cannot reshape array of size 32970000 into shape (28,28)",
     "output_type": "error",
     "traceback": [
      "\u001b[0;31m---------------------------------------------------------------------------\u001b[0m",
      "\u001b[0;31mValueError\u001b[0m                                Traceback (most recent call last)",
      "Cell \u001b[0;32mIn[89], line 1\u001b[0m\n\u001b[0;32m----> 1\u001b[0m \u001b[43mdf\u001b[49m\u001b[38;5;241;43m.\u001b[39;49m\u001b[43mvalues\u001b[49m\u001b[38;5;241;43m.\u001b[39;49m\u001b[43mreshape\u001b[49m\u001b[43m(\u001b[49m\u001b[38;5;241;43m28\u001b[39;49m\u001b[43m,\u001b[49m\u001b[38;5;241;43m28\u001b[39;49m\u001b[43m)\u001b[49m\n",
      "\u001b[0;31mValueError\u001b[0m: cannot reshape array of size 32970000 into shape (28,28)"
     ]
    }
   ],
   "source": [
    "df.values.reshape(28,28)"
   ]
  },
  {
   "cell_type": "code",
   "execution_count": 41,
   "id": "a733ff60-4717-4c91-9584-18856d14b1ee",
   "metadata": {},
   "outputs": [
    {
     "name": "stdout",
     "output_type": "stream",
     "text": [
      "4\n"
     ]
    },
    {
     "data": {
      "image/png": "[encoded data removed]",
      "text/plain": [
       "<Figure size 432x288 with 1 Axes>"
      ]
     },
     "metadata": {
      "needs_background": "light"
     },
     "output_type": "display_data"
    }
   ],
   "source": [
    "plt.imshow(df.iloc[3,1:].values.reshape(28,28),cmap=\"grey\")\n",
    "print(df.iloc[3,0])"
   ]
  },
  {
   "cell_type": "code",
   "execution_count": 37,
   "id": "0d5a96fe-04e4-435e-895f-45e259cb8862",
   "metadata": {},
   "outputs": [
    {
     "name": "stdout",
     "output_type": "stream",
     "text": [
      "       pixel0  pixel1  pixel2  pixel3  pixel4  pixel5  pixel6  pixel7  pixel8  \\\n",
      "17047       0       0       0       0       0       0       0       0       0   \n",
      "26639       0       0       0       0       0       0       0       0       0   \n",
      "9623        0       0       0       0       0       0       0       0       0   \n",
      "41198       0       0       0       0       0       0       0       0       0   \n",
      "13442       0       0       0       0       0       0       0       0       0   \n",
      "...       ...     ...     ...     ...     ...     ...     ...     ...     ...   \n",
      "5641        0       0       0       0       0       0       0       0       0   \n",
      "37584       0       0       0       0       0       0       0       0       0   \n",
      "1839        0       0       0       0       0       0       0       0       0   \n",
      "3603        0       0       0       0       0       0       0       0       0   \n",
      "12505       0       0       0       0       0       0       0       0       0   \n",
      "\n",
      "       pixel9  ...  pixel774  pixel775  pixel776  pixel777  pixel778  \\\n",
      "17047       0  ...         0         0         0         0         0   \n",
      "26639       0  ...         0         0         0         0         0   \n",
      "9623        0  ...         0         0         0         0         0   \n",
      "41198       0  ...         0         0         0         0         0   \n",
      "13442       0  ...         0         0         0         0         0   \n",
      "...       ...  ...       ...       ...       ...       ...       ...   \n",
      "5641        0  ...         0         0         0         0         0   \n",
      "37584       0  ...         0         0         0         0         0   \n",
      "1839        0  ...         0         0         0         0         0   \n",
      "3603        0  ...         0         0         0         0         0   \n",
      "12505       0  ...         0         0         0         0         0   \n",
      "\n",
      "       pixel779  pixel780  pixel781  pixel782  pixel783  \n",
      "17047         0         0         0         0         0  \n",
      "26639         0         0         0         0         0  \n",
      "9623          0         0         0         0         0  \n",
      "41198         0         0         0         0         0  \n",
      "13442         0         0         0         0         0  \n",
      "...         ...       ...       ...       ...       ...  \n",
      "5641          0         0         0         0         0  \n",
      "37584         0         0         0         0         0  \n",
      "1839          0         0         0         0         0  \n",
      "3603          0         0         0         0         0  \n",
      "12505         0         0         0         0         0  \n",
      "\n",
      "[4200 rows x 784 columns] 17047    3\n",
      "26639    2\n",
      "9623     6\n",
      "41198    3\n",
      "13442    4\n",
      "        ..\n",
      "5641     0\n",
      "37584    1\n",
      "1839     4\n",
      "3603     4\n",
      "12505    9\n",
      "Name: label, Length: 4200, dtype: int64\n"
     ]
    }
   ],
   "source": [
    "mf=df.sample(frac=0.10)\n",
    "y=mf.iloc[:,0]\n",
    "x=mf.iloc[:,1:]\n"
   ]
  },
  {
   "cell_type": "code",
   "execution_count": 42,
   "id": "b80815e0-2445-4bdb-93a2-55ea1ea99967",
   "metadata": {},
   "outputs": [
    {
     "name": "stdout",
     "output_type": "stream",
     "text": [
      "   label  pixel0  pixel1  pixel2  pixel3  pixel4  pixel5  pixel6  pixel7  \\\n",
      "0      1       0       0       0       0       0       0       0       0   \n",
      "1      0       0       0       0       0       0       0       0       0   \n",
      "2      1       0       0       0       0       0       0       0       0   \n",
      "3      4       0       0       0       0       0       0       0       0   \n",
      "4      0       0       0       0       0       0       0       0       0   \n",
      "\n",
      "   pixel8  ...  pixel774  pixel775  pixel776  pixel777  pixel778  pixel779  \\\n",
      "0       0  ...         0         0         0         0         0         0   \n",
      "1       0  ...         0         0         0         0         0         0   \n",
      "2       0  ...         0         0         0         0         0         0   \n",
      "3       0  ...         0         0         0         0         0         0   \n",
      "4       0  ...         0         0         0         0         0         0   \n",
      "\n",
      "   pixel780  pixel781  pixel782  pixel783  \n",
      "0         0         0         0         0  \n",
      "1         0         0         0         0  \n",
      "2         0         0         0         0  \n",
      "3         0         0         0         0  \n",
      "4         0         0         0         0  \n",
      "\n",
      "[5 rows x 785 columns]\n"
     ]
    }
   ],
   "source": [
    "#top 5 rows\n",
    "print(df.head())"
   ]
  },
  {
   "cell_type": "code",
   "execution_count": 60,
   "id": "70d7cbc0-f319-47b2-9c4f-2cd5fddc3bfc",
   "metadata": {},
   "outputs": [
    {
     "name": "stdout",
     "output_type": "stream",
     "text": [
      "1\n"
     ]
    }
   ],
   "source": [
    "print(mf['pixel0'].nunique())"
   ]
  },
  {
   "cell_type": "code",
   "execution_count": 69,
   "id": "f5664bf7-0a9c-4e2a-9a8a-8286db93a917",
   "metadata": {},
   "outputs": [
    {
     "name": "stdout",
     "output_type": "stream",
     "text": [
      "10\n"
     ]
    }
   ],
   "source": [
    "#7.find no.of unique class labels\n",
    "s=mf['label'].unique()\n",
    "print(len(s))\n"
   ]
  },
  {
   "cell_type": "code",
   "execution_count": 74,
   "id": "0a015fa1-eeec-4c79-8edb-02ba18d04026",
   "metadata": {},
   "outputs": [
    {
     "name": "stdout",
     "output_type": "stream",
     "text": [
      "label\n",
      "1    480\n",
      "9    467\n",
      "4    428\n",
      "3    427\n",
      "0    427\n",
      "7    417\n",
      "6    404\n",
      "2    390\n",
      "5    388\n",
      "8    372\n",
      "Name: count, dtype: int64\n"
     ]
    }
   ],
   "source": [
    "#8.print the no.of examples for each class label\n",
    "s=mf['label'].value_counts()\n",
    "print(s)\n"
   ]
  },
  {
   "cell_type": "code",
   "execution_count": 80,
   "id": "d3ed2f63-03f0-43c0-807e-a2147638db15",
   "metadata": {},
   "outputs": [
    {
     "name": "stdout",
     "output_type": "stream",
     "text": [
      "(42000, 784)\n",
      "(42000,)\n"
     ]
    }
   ],
   "source": [
    "#9.prepare x and y\n",
    "y=df['label']\n",
    "x=df.drop(columns='label')\n",
    "print(x.shape)\n",
    "print(y.shape)\n",
    "\n"
   ]
  },
  {
   "cell_type": "code",
   "execution_count": 90,
   "id": "0dddf16b-eeaf-46f5-9412-aa443f33a676",
   "metadata": {},
   "outputs": [
    {
     "data": {
      "image/png": "[encoded data removed]",
      "text/plain": [
       "<Figure size 432x288 with 1 Axes>"
      ]
     },
     "metadata": {
      "needs_background": "light"
     },
     "output_type": "display_data"
    },
    {
     "data": {
      "image/png": "[encoded data removed]",
      "text/plain": [
       "<Figure size 432x288 with 1 Axes>"
      ]
     },
     "metadata": {
      "needs_background": "light"
     },
     "output_type": "display_data"
    },
    {
     "data": {
      "image/png": "[encoded data removed]",
      "text/plain": [
       "<Figure size 432x288 with 1 Axes>"
      ]
     },
     "metadata": {
      "needs_background": "light"
     },
     "output_type": "display_data"
    },
    {
     "data": {
      "image/png": "[encoded data removed]",
      "text/plain": [
       "<Figure size 432x288 with 1 Axes>"
      ]
     },
     "metadata": {
      "needs_background": "light"
     },
     "output_type": "display_data"
    },
    {
     "data": {
      "image/png": "[encoded data removed]",
      "text/plain": [
       "<Figure size 432x288 with 1 Axes>"
      ]
     },
     "metadata": {
      "needs_background": "light"
     },
     "output_type": "display_data"
    }
   ],
   "source": [
    "#10.visulization the image of the first 5 digital in x also print the class lable in\n",
    "for i in range(5):\n",
    "    plt.imshow(df.iloc[i,1:].values.reshape(28,28),cmap='gray')\n",
    "    plt.title(f\"Label:{df.iloc[i,0]}\")\n",
    "    plt.axis(\"off\")\n",
    "    plt.show()"
   ]
  },
  {
   "cell_type": "code",
   "execution_count": null,
   "id": "d0a33842-77e0-4e1a-9320-1a10b79d4acf",
   "metadata": {},
   "outputs": [],
   "source": []
  }
 ],
 "metadata": {
  "kernelspec": {
   "display_name": "Python 3 (ipykernel)",
   "language": "python",
   "name": "python3"
  },
  "language_info": {
   "codemirror_mode": {
    "name": "ipython",
    "version": 3
   },
   "file_extension": ".py",
   "mimetype": "text/x-python",
   "name": "python",
   "nbconvert_exporter": "python",
   "pygments_lexer": "ipython3",
   "version": "3.10.12"
  }
 },
 "nbformat": 4,
 "nbformat_minor": 5
}
