{
 "cells": [
  {
   "cell_type": "code",
   "execution_count": null,
   "id": "5331e209-8dee-4492-be7e-23c37f2872cd",
   "metadata": {},
   "outputs": [],
   "source": [
    "import pandas as pd\n",
    "\n",
    "# Load your dataset\n",
    "file_path = 'transactions(1).csv'  # Replace with your dataset file path\n",
    "df = pd.read_csv(file_path)\n",
    "\n",
    "# Display a summary of the dataset\n",
    "print(\"Summary of the Dataset:\")\n",
    "print(df.info())  # Information about columns and data types\n",
    "\n",
    "print(\"\\nStatistical Summary:\")\n",
    "print(df.describe())  # Numerical statistical summary\n",
    "\n",
    "print(\"\\nFirst Few Rows:\")\n",
    "print(df.head())  # Display the first 5 rows\n",
    "\n",
    "print(\"\\nColumn-wise Missing Values:\")\n",
    "print(df.isnull().sum())  # Count of missing values per column\n",
    "\n",
    "print(\"\\nUnique Transactions (if applicable):\")\n",
    "if 'transaction_id' in df.columns:\n",
    "    print(f\"Number of Unique Transactions: {df['transaction_id'].nunique()}\")\n"
   ]
  }
 ],
 "metadata": {
  "kernelspec": {
   "display_name": "Python 3 (ipykernel)",
   "language": "python",
   "name": "python3"
  },
  "language_info": {
   "codemirror_mode": {
    "name": "ipython",
    "version": 3
   },
   "file_extension": ".py",
   "mimetype": "text/x-python",
   "name": "python",
   "nbconvert_exporter": "python",
   "pygments_lexer": "ipython3",
   "version": "3.10.12"
  }
 },
 "nbformat": 4,
 "nbformat_minor": 5
}
